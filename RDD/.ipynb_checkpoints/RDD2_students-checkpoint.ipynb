{
 "cells": [
  {
   "cell_type": "code",
   "execution_count": 1,
   "metadata": {},
   "outputs": [],
   "source": [
    "import findspark\n",
    "findspark.init()\n",
    "\n",
    "%matplotlib inline\n",
    "import matplotlib.pyplot as plt\n",
    "import pyspark\n",
    "sc = pyspark.SparkContext(master=\"local[*]\",appName=\"RDDfun\")"
   ]
  },
  {
   "cell_type": "markdown",
   "metadata": {},
   "source": [
    "https://archive.ics.uci.edu/ml/datasets/Adult\n",
    "\n",
    "### Zmienne\n",
    "**age**: continuous.\n",
    "\n",
    "**workclass**: Private, Self-emp-not-inc, Self-emp-inc, Federal-gov, Local-gov, State-gov, Without-pay, Never-worked.\n",
    "\n",
    "_**fnlwgt**: continuous._\n",
    "\n",
    "**education**: Bachelors, Some-college, 11th, HS-grad, Prof-school, Assoc-acdm, Assoc-voc, 9th, 7th-8th, 12th, Masters, 1st-4th, 10th, Doctorate, 5th-6th, Preschool.\n",
    "\n",
    "**education-num**: continuous.\n",
    "\n",
    "**marital-status**: Married-civ-spouse, Divorced, Never-married, Separated, Widowed, Married-spouse-absent, Married-AF-spouse.\n",
    "\n",
    "**occupation**: Tech-support, Craft-repair, Other-service, Sales, Exec-managerial, Prof-specialty, Handlers-cleaners, Machine-op-inspct, Adm-clerical, Farming-fishing, Transport-moving, Priv-house-serv, Protective-serv, Armed-Forces.\n",
    "\n",
    "**relationship**: Wife, Own-child, Husband, Not-in-family, Other-relative, Unmarried.\n",
    "\n",
    "**race**: White, Asian-Pac-Islander, Amer-Indian-Eskimo, Other, Black.\n",
    "\n",
    "**sex**: Female, Male.\n",
    "\n",
    "**capital-gain**: continuous.\n",
    "\n",
    "**capital-loss**: continuous.\n",
    "\n",
    "**hours-per-week**: continuous.\n",
    "\n",
    "**native-country**: United-States, Cambodia, England, Puerto-Rico, Canada, Germany, Outlying-US(Guam-USVI-etc), India, Japan, Greece, South, China, Cuba, Iran, Honduras, Philippines, Italy, Poland, Jamaica, Vietnam, Mexico, Portugal, Ireland, France, Dominican-Republic, Laos, Ecuador, Taiwan, Haiti, Columbia, Hungary, Guatemala, Nicaragua, Scotland, Thailand, Yugoslavia, El-Salvador, Trinadad&Tobago, Peru, Hong, Holand-Netherlands."
   ]
  },
  {
   "cell_type": "code",
   "execution_count": 2,
   "metadata": {
    "scrolled": true
   },
   "outputs": [
    {
     "data": {
      "text/plain": [
       "['39, State-gov, 77516, Bachelors, 13, Never-married, Adm-clerical, Not-in-family, White, Male, 2174, 0, 40, United-States, <=50K',\n",
       " '50, Self-emp-not-inc, 83311, Bachelors, 13, Married-civ-spouse, Exec-managerial, Husband, White, Male, 0, 0, 13, United-States, <=50K']"
      ]
     },
     "execution_count": 2,
     "metadata": {},
     "output_type": "execute_result"
    }
   ],
   "source": [
    "rawData = sc.textFile(\"adult.data\")\n",
    "rawData.take(2)"
   ]
  },
  {
   "cell_type": "markdown",
   "metadata": {},
   "source": [
    "### Przygotowanie danych\n",
    "- podzielenie stringow\n",
    "- sprawdzenie czy występuja braki danych i ewentualne rozwiazanie problemu\n",
    "- usuniecie niechcianej zmiennej `fnlwgt`\n",
    "- cache() otrzymanego zbioru"
   ]
  },
  {
   "cell_type": "code",
   "execution_count": 3,
   "metadata": {},
   "outputs": [
    {
     "data": {
      "text/plain": [
       "[['39',\n",
       "  'State-gov',\n",
       "  '77516',\n",
       "  'Bachelors',\n",
       "  '13',\n",
       "  'Never-married',\n",
       "  'Adm-clerical',\n",
       "  'Not-in-family',\n",
       "  'White',\n",
       "  'Male',\n",
       "  '2174',\n",
       "  '0',\n",
       "  '40',\n",
       "  'United-States',\n",
       "  '<=50K'],\n",
       " ['50',\n",
       "  'Self-emp-not-inc',\n",
       "  '83311',\n",
       "  'Bachelors',\n",
       "  '13',\n",
       "  'Married-civ-spouse',\n",
       "  'Exec-managerial',\n",
       "  'Husband',\n",
       "  'White',\n",
       "  'Male',\n",
       "  '0',\n",
       "  '0',\n",
       "  '13',\n",
       "  'United-States',\n",
       "  '<=50K']]"
      ]
     },
     "execution_count": 3,
     "metadata": {},
     "output_type": "execute_result"
    }
   ],
   "source": [
    "data=rawData.map(lambda x: x.split(', '))\n",
    "data.take(2)"
   ]
  },
  {
   "cell_type": "code",
   "execution_count": 4,
   "metadata": {},
   "outputs": [
    {
     "data": {
      "text/plain": [
       "1"
      ]
     },
     "execution_count": 4,
     "metadata": {},
     "output_type": "execute_result"
    }
   ],
   "source": [
    "data.filter(lambda x: \"\" in x).count()"
   ]
  },
  {
   "cell_type": "code",
   "execution_count": 5,
   "metadata": {},
   "outputs": [
    {
     "data": {
      "text/plain": [
       "[['39',\n",
       "  'State-gov',\n",
       "  '77516',\n",
       "  'Bachelors',\n",
       "  '13',\n",
       "  'Never-married',\n",
       "  'Adm-clerical',\n",
       "  'Not-in-family',\n",
       "  'White',\n",
       "  'Male',\n",
       "  '2174',\n",
       "  '0',\n",
       "  '40',\n",
       "  'United-States',\n",
       "  '<=50K']]"
      ]
     },
     "execution_count": 5,
     "metadata": {},
     "output_type": "execute_result"
    }
   ],
   "source": [
    "data1=data.filter(lambda x: \"\" not in x)\n",
    "data1.take(1)"
   ]
  },
  {
   "cell_type": "code",
   "execution_count": 6,
   "metadata": {},
   "outputs": [
    {
     "data": {
      "text/plain": [
       "[['39',\n",
       "  'State-gov',\n",
       "  'Bachelors',\n",
       "  '13',\n",
       "  'Never-married',\n",
       "  'Adm-clerical',\n",
       "  'Not-in-family',\n",
       "  'White',\n",
       "  'Male',\n",
       "  '2174',\n",
       "  '0',\n",
       "  '40',\n",
       "  'United-States',\n",
       "  '<=50K']]"
      ]
     },
     "execution_count": 6,
     "metadata": {},
     "output_type": "execute_result"
    }
   ],
   "source": [
    "data2 = data1.map(lambda x : x[:2] + x[3:])\n",
    "data2.take(1)"
   ]
  },
  {
   "cell_type": "code",
   "execution_count": 7,
   "metadata": {},
   "outputs": [],
   "source": [
    "def makeNums(lst):\n",
    "    fin_lst = []\n",
    "    for x in lst:\n",
    "        if x.isdigit():\n",
    "            fin_lst.append(int(x))\n",
    "        else:\n",
    "            fin_lst.append(x)\n",
    "    return fin_lst"
   ]
  },
  {
   "cell_type": "code",
   "execution_count": 8,
   "metadata": {},
   "outputs": [
    {
     "data": {
      "text/plain": [
       "[[39,\n",
       "  'State-gov',\n",
       "  'Bachelors',\n",
       "  13,\n",
       "  'Never-married',\n",
       "  'Adm-clerical',\n",
       "  'Not-in-family',\n",
       "  'White',\n",
       "  'Male',\n",
       "  2174,\n",
       "  0,\n",
       "  40,\n",
       "  'United-States',\n",
       "  '<=50K']]"
      ]
     },
     "execution_count": 8,
     "metadata": {},
     "output_type": "execute_result"
    }
   ],
   "source": [
    "data3=data2.map(makeNums)\n",
    "data3.take(1)"
   ]
  },
  {
   "cell_type": "code",
   "execution_count": 9,
   "metadata": {},
   "outputs": [
    {
     "data": {
      "text/plain": [
       "PythonRDD[8] at RDD at PythonRDD.scala:53"
      ]
     },
     "execution_count": 9,
     "metadata": {},
     "output_type": "execute_result"
    }
   ],
   "source": [
    "data2.map(lambda x: [int(i) if i.isdigit() else i for i in x])"
   ]
  },
  {
   "cell_type": "markdown",
   "metadata": {},
   "source": [
    "## Stworzenie wykresu zmiennej age ( (age, l.wystapien) -> plt.bar() )"
   ]
  },
  {
   "cell_type": "code",
   "execution_count": 40,
   "metadata": {},
   "outputs": [
    {
     "data": {
      "text/plain": [
       "[(17, 395), (18, 550), (19, 712), (20, 753), (21, 720)]"
      ]
     },
     "execution_count": 40,
     "metadata": {},
     "output_type": "execute_result"
    }
   ],
   "source": [
    "d2 = data3.groupBy(lambda x: x[0]).map(lambda x: (x[0], len(x[1]))).sortBy(lambda x: x[0])\n",
    "d2.take(5)"
   ]
  },
  {
   "cell_type": "code",
   "execution_count": 13,
   "metadata": {},
   "outputs": [],
   "source": [
    "ageList = sorted(data3.map(lambda x: (x[0],1)).reduceByKey(lambda x,y: x+y).collect())"
   ]
  },
  {
   "cell_type": "code",
   "execution_count": 16,
   "metadata": {},
   "outputs": [],
   "source": [
    "ageLabel = [x[0] for x in ageList]\n",
    "ageHeight=[x[1] for x in ageList]"
   ]
  },
  {
   "cell_type": "code",
   "execution_count": 26,
   "metadata": {
    "scrolled": true
   },
   "outputs": [
    {
     "data": {
      "image/png": "[encoded data removed]",
      "text/plain": [
       "<Figure size 576x288 with 1 Axes>"
      ]
     },
     "metadata": {
      "needs_background": "light"
     },
     "output_type": "display_data"
    }
   ],
   "source": [
    "plt.rcParams[\"figure.figsize\"]=(8,4)\n",
    "plt.bar(ageLabel, ageHeight)\n",
    "plt.title(\"Rozkład wieku\", fontsize=24)\n",
    "plt.xlabel(\"wiek\", fontsize=14)\n",
    "plt.ylabel(\"liczba osób\", fontsize=14)\n",
    "plt.show()"
   ]
  },
  {
   "cell_type": "markdown",
   "metadata": {},
   "source": [
    "## Zliczenie liczby wystapien poziomow zmiennej workclass"
   ]
  },
  {
   "cell_type": "code",
   "execution_count": 31,
   "metadata": {},
   "outputs": [
    {
     "data": {
      "text/plain": [
       "[('Self-emp-not-inc', 2541),\n",
       " ('Private', 22696),\n",
       " ('Federal-gov', 960),\n",
       " ('Local-gov', 2093),\n",
       " ('?', 1836),\n",
       " ('Self-emp-inc', 1116),\n",
       " ('Never-worked', 7),\n",
       " ('State-gov', 1298),\n",
       " ('Without-pay', 14)]"
      ]
     },
     "execution_count": 31,
     "metadata": {},
     "output_type": "execute_result"
    }
   ],
   "source": [
    "workclassList = data3.map(lambda x: (x[1],1)).reduceByKey(lambda x,y: x+y).collect()\n",
    "workclassList"
   ]
  },
  {
   "cell_type": "markdown",
   "metadata": {},
   "source": [
    "## Sprawdzenie czy czestosc wystapien wartosci zmiennej `education` zgadza sie z czestoscia wystapien zmiennej `education-num`; polaczenie poziomu wyksztalcenia z dlugoscia nauki wykorzystujac liczbe wystapien jako klucz"
   ]
  },
  {
   "cell_type": "code",
   "execution_count": 45,
   "metadata": {},
   "outputs": [
    {
     "data": {
      "text/plain": [
       "[('Bachelors', 5355),\n",
       " ('HS-grad', 10501),\n",
       " ('9th', 514),\n",
       " ('7th-8th', 646),\n",
       " ('12th', 433),\n",
       " ('11th', 1175),\n",
       " ('Masters', 1723),\n",
       " ('Some-college', 7291),\n",
       " ('Assoc-acdm', 1067),\n",
       " ('Assoc-voc', 1382),\n",
       " ('Doctorate', 413),\n",
       " ('Prof-school', 576),\n",
       " ('5th-6th', 333),\n",
       " ('10th', 933),\n",
       " ('1st-4th', 168),\n",
       " ('Preschool', 51)]"
      ]
     },
     "execution_count": 45,
     "metadata": {},
     "output_type": "execute_result"
    }
   ],
   "source": [
    "educationList = data3.map(lambda x: (x[2],1)).reduceByKey(lambda x,y: x+y).collect()\n",
    "educationList"
   ]
  },
  {
   "cell_type": "code",
   "execution_count": 39,
   "metadata": {},
   "outputs": [
    {
     "data": {
      "text/plain": [
       "[(1, 51),\n",
       " (2, 168),\n",
       " (3, 333),\n",
       " (16, 413),\n",
       " (8, 433),\n",
       " (5, 514),\n",
       " (15, 576),\n",
       " (4, 646),\n",
       " (6, 933),\n",
       " (12, 1067),\n",
       " (7, 1175),\n",
       " (11, 1382),\n",
       " (14, 1723),\n",
       " (13, 5355),\n",
       " (10, 7291),\n",
       " (9, 10501)]"
      ]
     },
     "execution_count": 39,
     "metadata": {},
     "output_type": "execute_result"
    }
   ],
   "source": [
    "educationList2 = data3.map(lambda x: (x[3],1)).reduceByKey(lambda x,y: x+y).collect()\n",
    "educationList2"
   ]
  },
  {
   "cell_type": "code",
   "execution_count": 51,
   "metadata": {},
   "outputs": [
    {
     "data": {
      "text/plain": [
       "[('Prof-school', 15),\n",
       " ('1st-4th', 2),\n",
       " ('HS-grad', 9),\n",
       " ('12th', 8),\n",
       " ('Doctorate', 16),\n",
       " ('5th-6th', 3),\n",
       " ('10th', 6),\n",
       " ('9th', 5),\n",
       " ('7th-8th', 4),\n",
       " ('Assoc-voc', 11),\n",
       " ('Bachelors', 13),\n",
       " ('11th', 7),\n",
       " ('Masters', 14),\n",
       " ('Some-college', 10),\n",
       " ('Assoc-acdm', 12),\n",
       " ('Preschool', 1)]"
      ]
     },
     "execution_count": 51,
     "metadata": {},
     "output_type": "execute_result"
    }
   ],
   "source": [
    "data3.map(lambda x: (x[2],1)).reduceByKey(lambda x,y: x+y).map(lambda x: (x[1],x[0]))\\\n",
    ".join(data3.map(lambda x: (x[3],1)).reduceByKey(lambda x,y: x+y).map(lambda x: (x[1],x[0])))\\\n",
    ".values().collect()"
   ]
  },
  {
   "cell_type": "markdown",
   "metadata": {},
   "source": [
    "## Stworzenie macierzy kontyngencji `race` x `sex`"
   ]
  },
  {
   "cell_type": "code",
   "execution_count": 55,
   "metadata": {},
   "outputs": [
    {
     "data": {
      "text/plain": [
       "[('White', 19174, 8642),\n",
       " ('Black', 1569, 1555),\n",
       " ('Asian-Pac-Islander', 693, 346),\n",
       " ('Amer-Indian-Eskimo', 192, 119),\n",
       " ('Other', 162, 109)]"
      ]
     },
     "execution_count": 55,
     "metadata": {},
     "output_type": "execute_result"
    }
   ],
   "source": [
    "def sx(s):\n",
    "    if s == \"Male\":\n",
    "        return (1,0)\n",
    "    else:\n",
    "        return (0,1)\n",
    "\n",
    "data3.map(lambda x: (x[7],x[8])).mapValues(sx)\\\n",
    ".reduceByKey(lambda x,y: (x[0]+y[0],x[1]+y[1]))\\\n",
    ".map(lambda x: (x[0], x[1][0],x[1][1])).collect()"
   ]
  },
  {
   "cell_type": "markdown",
   "metadata": {},
   "source": [
    "## Pogrupowanie obserwacji ze wzgledu na `capital-gain` w przedzialy ['0','1-1000','1001-10000','10001-50000','>50000'] oraz zliczenie liczby rekordow w kazdej z nich"
   ]
  },
  {
   "cell_type": "code",
   "execution_count": 57,
   "metadata": {},
   "outputs": [
    {
     "data": {
      "text/plain": [
       "[('0', 29849),\n",
       " ('1001-10000', 1887),\n",
       " ('10001-50000', 611),\n",
       " ('1-1000', 55),\n",
       " ('>50000', 159)]"
      ]
     },
     "execution_count": 57,
     "metadata": {},
     "output_type": "execute_result"
    }
   ],
   "source": [
    "def CG(gain):\n",
    "    if gain ==0:\n",
    "        return \"0\"\n",
    "    elif gain <= 1000:\n",
    "        return '1-1000'\n",
    "    elif gain <= 10000:\n",
    "        return '1001-10000'\n",
    "    elif gain <= 50000:\n",
    "        return '10001-50000'\n",
    "    else:\n",
    "        return '>50000'\n",
    "    \n",
    "data3.map(lambda x: x[9])\\\n",
    ".map(CG)\\\n",
    ".map(lambda x: (x,1))\\\n",
    ".reduceByKey(lambda x,y: x+y).collect()"
   ]
  }
 ],
 "metadata": {
  "kernelspec": {
   "display_name": "Python 3",
   "language": "python",
   "name": "python3"
  },
  "language_info": {
   "codemirror_mode": {
    "name": "ipython",
    "version": 3
   },
   "file_extension": ".py",
   "mimetype": "text/x-python",
   "name": "python",
   "nbconvert_exporter": "python",
   "pygments_lexer": "ipython3",
   "version": "3.8.3"
  }
 },
 "nbformat": 4,
 "nbformat_minor": 2
}
