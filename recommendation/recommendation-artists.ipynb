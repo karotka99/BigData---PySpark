{
 "cells": [
  {
   "cell_type": "markdown",
   "metadata": {},
   "source": [
    "### ALS"
   ]
  },
  {
   "cell_type": "code",
   "execution_count": 1,
   "metadata": {},
   "outputs": [],
   "source": [
    "import findspark\n",
    "findspark.init()"
   ]
  },
  {
   "cell_type": "code",
   "execution_count": 2,
   "metadata": {
    "scrolled": false
   },
   "outputs": [],
   "source": [
    "import pyspark\n",
    "from pyspark.sql import SparkSession\n",
    "spark = SparkSession.builder.appName('MovieLens').getOrCreate()"
   ]
  },
  {
   "cell_type": "code",
   "execution_count": 3,
   "metadata": {},
   "outputs": [],
   "source": [
    "artists = spark.read.csv(\"hetrec2011-lastfm-2k/artists.dat\",sep=\"\\t\",header=True)\n",
    "user_artists = spark.read.csv(\"hetrec2011-lastfm-2k/user_artists.dat\",sep=\"\\t\", header=True)"
   ]
  },
  {
   "cell_type": "code",
   "execution_count": 4,
   "metadata": {},
   "outputs": [],
   "source": [
    "user_artists = user_artists.withColumn(\"weight\", user_artists.weight.cast('int') )\n",
    "user_artists = user_artists.withColumn(\"userID\", user_artists.userID.cast('int') )\n",
    "user_artists = user_artists.withColumn(\"artistID\", user_artists.artistID.cast('int') )"
   ]
  },
  {
   "cell_type": "code",
   "execution_count": 5,
   "metadata": {},
   "outputs": [
    {
     "name": "stdout",
     "output_type": "stream",
     "text": [
      "root\n",
      " |-- userID: integer (nullable = true)\n",
      " |-- artistID: integer (nullable = true)\n",
      " |-- weight: integer (nullable = true)\n",
      "\n"
     ]
    }
   ],
   "source": [
    "user_artists.printSchema()"
   ]
  },
  {
   "cell_type": "code",
   "execution_count": 6,
   "metadata": {},
   "outputs": [],
   "source": [
    "import pandas as pd"
   ]
  },
  {
   "cell_type": "code",
   "execution_count": 5,
   "metadata": {},
   "outputs": [],
   "source": [
    "user_artists_pan=user_artists.toPandas()\n",
    "user_artists_pan[\"play\"]=1"
   ]
  },
  {
   "cell_type": "code",
   "execution_count": 6,
   "metadata": {},
   "outputs": [],
   "source": [
    "count_artist=user_artists_pan.groupby(by='artistID').count()\n",
    "count_artist=count_artist.rename(columns={\"play\": \"count\"})\n",
    "count_artist=count_artist.drop(columns=['userID','weight'])\n",
    "count_artist=count_artist.reset_index()"
   ]
  },
  {
   "cell_type": "code",
   "execution_count": 7,
   "metadata": {},
   "outputs": [
    {
     "data": {
      "text/plain": [
       "pandas.core.frame.DataFrame"
      ]
     },
     "execution_count": 7,
     "metadata": {},
     "output_type": "execute_result"
    }
   ],
   "source": [
    "type(count_artist)"
   ]
  },
  {
   "cell_type": "code",
   "execution_count": 8,
   "metadata": {},
   "outputs": [],
   "source": [
    "user_artists_pan=user_artists_pan.join(count_artist.set_index('artistID'), on=\"artistID\")"
   ]
  },
  {
   "cell_type": "code",
   "execution_count": 9,
   "metadata": {},
   "outputs": [
    {
     "data": {
      "text/html": [
       "<div>\n",
       "<style scoped>\n",
       "    .dataframe tbody tr th:only-of-type {\n",
       "        vertical-align: middle;\n",
       "    }\n",
       "\n",
       "    .dataframe tbody tr th {\n",
       "        vertical-align: top;\n",
       "    }\n",
       "\n",
       "    .dataframe thead th {\n",
       "        text-align: right;\n",
       "    }\n",
       "</style>\n",
       "<table border=\"1\" class=\"dataframe\">\n",
       "  <thead>\n",
       "    <tr style=\"text-align: right;\">\n",
       "      <th></th>\n",
       "      <th>userID</th>\n",
       "      <th>artistID</th>\n",
       "      <th>weight</th>\n",
       "      <th>play</th>\n",
       "      <th>count</th>\n",
       "    </tr>\n",
       "  </thead>\n",
       "  <tbody>\n",
       "    <tr>\n",
       "      <th>0</th>\n",
       "      <td>2</td>\n",
       "      <td>51</td>\n",
       "      <td>13883</td>\n",
       "      <td>1</td>\n",
       "      <td>111</td>\n",
       "    </tr>\n",
       "    <tr>\n",
       "      <th>1</th>\n",
       "      <td>2</td>\n",
       "      <td>52</td>\n",
       "      <td>11690</td>\n",
       "      <td>1</td>\n",
       "      <td>23</td>\n",
       "    </tr>\n",
       "    <tr>\n",
       "      <th>2</th>\n",
       "      <td>2</td>\n",
       "      <td>53</td>\n",
       "      <td>11351</td>\n",
       "      <td>1</td>\n",
       "      <td>75</td>\n",
       "    </tr>\n",
       "    <tr>\n",
       "      <th>3</th>\n",
       "      <td>2</td>\n",
       "      <td>54</td>\n",
       "      <td>10300</td>\n",
       "      <td>1</td>\n",
       "      <td>18</td>\n",
       "    </tr>\n",
       "    <tr>\n",
       "      <th>4</th>\n",
       "      <td>2</td>\n",
       "      <td>55</td>\n",
       "      <td>8983</td>\n",
       "      <td>1</td>\n",
       "      <td>298</td>\n",
       "    </tr>\n",
       "    <tr>\n",
       "      <th>...</th>\n",
       "      <td>...</td>\n",
       "      <td>...</td>\n",
       "      <td>...</td>\n",
       "      <td>...</td>\n",
       "      <td>...</td>\n",
       "    </tr>\n",
       "    <tr>\n",
       "      <th>92829</th>\n",
       "      <td>2100</td>\n",
       "      <td>18726</td>\n",
       "      <td>337</td>\n",
       "      <td>1</td>\n",
       "      <td>1</td>\n",
       "    </tr>\n",
       "    <tr>\n",
       "      <th>92830</th>\n",
       "      <td>2100</td>\n",
       "      <td>18727</td>\n",
       "      <td>297</td>\n",
       "      <td>1</td>\n",
       "      <td>1</td>\n",
       "    </tr>\n",
       "    <tr>\n",
       "      <th>92831</th>\n",
       "      <td>2100</td>\n",
       "      <td>18728</td>\n",
       "      <td>281</td>\n",
       "      <td>1</td>\n",
       "      <td>1</td>\n",
       "    </tr>\n",
       "    <tr>\n",
       "      <th>92832</th>\n",
       "      <td>2100</td>\n",
       "      <td>18729</td>\n",
       "      <td>280</td>\n",
       "      <td>1</td>\n",
       "      <td>1</td>\n",
       "    </tr>\n",
       "    <tr>\n",
       "      <th>92833</th>\n",
       "      <td>2100</td>\n",
       "      <td>18730</td>\n",
       "      <td>263</td>\n",
       "      <td>1</td>\n",
       "      <td>1</td>\n",
       "    </tr>\n",
       "  </tbody>\n",
       "</table>\n",
       "<p>92834 rows × 5 columns</p>\n",
       "</div>"
      ],
      "text/plain": [
       "       userID  artistID  weight  play  count\n",
       "0           2        51   13883     1    111\n",
       "1           2        52   11690     1     23\n",
       "2           2        53   11351     1     75\n",
       "3           2        54   10300     1     18\n",
       "4           2        55    8983     1    298\n",
       "...       ...       ...     ...   ...    ...\n",
       "92829    2100     18726     337     1      1\n",
       "92830    2100     18727     297     1      1\n",
       "92831    2100     18728     281     1      1\n",
       "92832    2100     18729     280     1      1\n",
       "92833    2100     18730     263     1      1\n",
       "\n",
       "[92834 rows x 5 columns]"
      ]
     },
     "execution_count": 9,
     "metadata": {},
     "output_type": "execute_result"
    }
   ],
   "source": [
    "user_artists_pan"
   ]
  },
  {
   "cell_type": "code",
   "execution_count": 10,
   "metadata": {},
   "outputs": [],
   "source": [
    "user_artists_pan=user_artists_pan[user_artists_pan[\"count\"]>10]"
   ]
  },
  {
   "cell_type": "code",
   "execution_count": 11,
   "metadata": {},
   "outputs": [
    {
     "data": {
      "text/html": [
       "<div>\n",
       "<style scoped>\n",
       "    .dataframe tbody tr th:only-of-type {\n",
       "        vertical-align: middle;\n",
       "    }\n",
       "\n",
       "    .dataframe tbody tr th {\n",
       "        vertical-align: top;\n",
       "    }\n",
       "\n",
       "    .dataframe thead th {\n",
       "        text-align: right;\n",
       "    }\n",
       "</style>\n",
       "<table border=\"1\" class=\"dataframe\">\n",
       "  <thead>\n",
       "    <tr style=\"text-align: right;\">\n",
       "      <th></th>\n",
       "      <th>userID</th>\n",
       "      <th>artistID</th>\n",
       "      <th>weight</th>\n",
       "      <th>play</th>\n",
       "      <th>count</th>\n",
       "    </tr>\n",
       "  </thead>\n",
       "  <tbody>\n",
       "    <tr>\n",
       "      <th>0</th>\n",
       "      <td>2</td>\n",
       "      <td>51</td>\n",
       "      <td>13883</td>\n",
       "      <td>1</td>\n",
       "      <td>111</td>\n",
       "    </tr>\n",
       "    <tr>\n",
       "      <th>1</th>\n",
       "      <td>2</td>\n",
       "      <td>52</td>\n",
       "      <td>11690</td>\n",
       "      <td>1</td>\n",
       "      <td>23</td>\n",
       "    </tr>\n",
       "    <tr>\n",
       "      <th>2</th>\n",
       "      <td>2</td>\n",
       "      <td>53</td>\n",
       "      <td>11351</td>\n",
       "      <td>1</td>\n",
       "      <td>75</td>\n",
       "    </tr>\n",
       "    <tr>\n",
       "      <th>3</th>\n",
       "      <td>2</td>\n",
       "      <td>54</td>\n",
       "      <td>10300</td>\n",
       "      <td>1</td>\n",
       "      <td>18</td>\n",
       "    </tr>\n",
       "    <tr>\n",
       "      <th>4</th>\n",
       "      <td>2</td>\n",
       "      <td>55</td>\n",
       "      <td>8983</td>\n",
       "      <td>1</td>\n",
       "      <td>298</td>\n",
       "    </tr>\n",
       "    <tr>\n",
       "      <th>...</th>\n",
       "      <td>...</td>\n",
       "      <td>...</td>\n",
       "      <td>...</td>\n",
       "      <td>...</td>\n",
       "      <td>...</td>\n",
       "    </tr>\n",
       "    <tr>\n",
       "      <th>92794</th>\n",
       "      <td>2100</td>\n",
       "      <td>1260</td>\n",
       "      <td>1459</td>\n",
       "      <td>1</td>\n",
       "      <td>11</td>\n",
       "    </tr>\n",
       "    <tr>\n",
       "      <th>92795</th>\n",
       "      <td>2100</td>\n",
       "      <td>1276</td>\n",
       "      <td>1133</td>\n",
       "      <td>1</td>\n",
       "      <td>13</td>\n",
       "    </tr>\n",
       "    <tr>\n",
       "      <th>92796</th>\n",
       "      <td>2100</td>\n",
       "      <td>1281</td>\n",
       "      <td>573</td>\n",
       "      <td>1</td>\n",
       "      <td>20</td>\n",
       "    </tr>\n",
       "    <tr>\n",
       "      <th>92798</th>\n",
       "      <td>2100</td>\n",
       "      <td>2765</td>\n",
       "      <td>457</td>\n",
       "      <td>1</td>\n",
       "      <td>11</td>\n",
       "    </tr>\n",
       "    <tr>\n",
       "      <th>92803</th>\n",
       "      <td>2100</td>\n",
       "      <td>4271</td>\n",
       "      <td>2026</td>\n",
       "      <td>1</td>\n",
       "      <td>19</td>\n",
       "    </tr>\n",
       "  </tbody>\n",
       "</table>\n",
       "<p>61729 rows × 5 columns</p>\n",
       "</div>"
      ],
      "text/plain": [
       "       userID  artistID  weight  play  count\n",
       "0           2        51   13883     1    111\n",
       "1           2        52   11690     1     23\n",
       "2           2        53   11351     1     75\n",
       "3           2        54   10300     1     18\n",
       "4           2        55    8983     1    298\n",
       "...       ...       ...     ...   ...    ...\n",
       "92794    2100      1260    1459     1     11\n",
       "92795    2100      1276    1133     1     13\n",
       "92796    2100      1281     573     1     20\n",
       "92798    2100      2765     457     1     11\n",
       "92803    2100      4271    2026     1     19\n",
       "\n",
       "[61729 rows x 5 columns]"
      ]
     },
     "execution_count": 11,
     "metadata": {},
     "output_type": "execute_result"
    }
   ],
   "source": [
    "user_artists_pan"
   ]
  },
  {
   "cell_type": "code",
   "execution_count": 12,
   "metadata": {},
   "outputs": [
    {
     "data": {
      "text/plain": [
       "DataFrame[userID: bigint, artistID: bigint, weight: bigint, play: bigint, count: bigint]"
      ]
     },
     "execution_count": 12,
     "metadata": {},
     "output_type": "execute_result"
    }
   ],
   "source": [
    "us_art = spark.createDataFrame(user_artists_pan)\n",
    "us_art"
   ]
  },
  {
   "cell_type": "code",
   "execution_count": 13,
   "metadata": {},
   "outputs": [],
   "source": [
    "from pyspark.sql.types import *\n",
    "from pyspark.sql.functions import col\n",
    "\n",
    "us_art = us_art.withColumn(\"userId\", col(\"userId\").cast(IntegerType()))\\\n",
    "                        .withColumn(\"artistId\", col(\"artistId\").cast(IntegerType()))\\\n",
    "                        .withColumn(\"weight\", col(\"weight\").cast(DoubleType()))\n"
   ]
  },
  {
   "cell_type": "code",
   "execution_count": 14,
   "metadata": {},
   "outputs": [],
   "source": [
    "from pyspark import SparkConf, SparkContext\n",
    "from pyspark.mllib.recommendation import ALS, MatrixFactorizationModel, Rating"
   ]
  },
  {
   "cell_type": "code",
   "execution_count": 15,
   "metadata": {},
   "outputs": [
    {
     "name": "stdout",
     "output_type": "stream",
     "text": [
      " training: 43111\n",
      " test: 18618\n",
      "\n"
     ]
    }
   ],
   "source": [
    "# dzielimy zbiór na treningowy i testowy (0.7 i 0.3)\n",
    "(ratings_train, ratings_test) = us_art.randomSplit([0.7,0.3], seed = 1000)\n",
    "\n",
    "print(' training: {0}\\n test: {1}\\n'\\\n",
    "  .format(ratings_train.count(),\n",
    "          ratings_test.count()\n",
    "         ))"
   ]
  },
  {
   "cell_type": "code",
   "execution_count": 16,
   "metadata": {},
   "outputs": [],
   "source": [
    "from pyspark.ml.recommendation import ALS\n",
    "#https://spark.apache.org/docs/2.1.0/ml-collaborative-filtering.html\n",
    "ratings_als = ALS(userCol = \"userId\",\n",
    "                  itemCol = \"artistId\",\n",
    "                  ratingCol = \"play\",\n",
    "                  rank = 10, #latent components\n",
    "                  maxIter = 10,\n",
    "                  regParam = 0.1, #regularization\n",
    "                  implicitPrefs = False, \n",
    "                  coldStartStrategy = \"drop\", \n",
    "                  )"
   ]
  },
  {
   "cell_type": "code",
   "execution_count": 17,
   "metadata": {},
   "outputs": [
    {
     "name": "stdout",
     "output_type": "stream",
     "text": [
      "+------+--------+------+----+-----+----------+\n",
      "|userId|artistId|weight|play|count|prediction|\n",
      "+------+--------+------+----+-----+----------+\n",
      "|   126|    1580| 267.0|   1|   43|0.89959943|\n",
      "|   210|     463| 510.0|   1|   17| 0.8997955|\n",
      "|    27|     463| 159.0|   1|   17| 0.8997495|\n",
      "|   271|    1580| 900.0|   1|   43|0.89971703|\n",
      "|   333|    1580| 295.0|   1|   43| 0.8996826|\n",
      "|   319|    1645|2067.0|   1|   21| 0.8997618|\n",
      "|   479|     463|  23.0|   1|   17|0.89975446|\n",
      "|   432|    1645| 223.0|   1|   21|0.89979494|\n",
      "|   306|     463| 452.0|   1|   17|0.89963704|\n",
      "|   189|     496| 241.0|   1|   11| 0.8997361|\n",
      "+------+--------+------+----+-----+----------+\n",
      "only showing top 10 rows\n",
      "\n"
     ]
    }
   ],
   "source": [
    "#predykcje\n",
    "from pyspark.ml.evaluation import RegressionEvaluator\n",
    "ratings_model = ratings_als.fit(ratings_train)\n",
    "\n",
    "ratings_pred = ratings_model.transform(ratings_test)\n",
    "ratings_pred.show(10)"
   ]
  },
  {
   "cell_type": "code",
   "execution_count": 19,
   "metadata": {},
   "outputs": [
    {
     "name": "stdout",
     "output_type": "stream",
     "text": [
      "RMSE = 0.10024020695887441\n"
     ]
    }
   ],
   "source": [
    "#ocena jakości\n",
    "from pyspark.ml.evaluation import RegressionEvaluator\n",
    "ratings_eval = RegressionEvaluator(metricName = \"rmse\", \n",
    "                                    labelCol = \"play\",\n",
    "                                    predictionCol = \"prediction\")\n",
    "ratings_rmse = ratings_eval.evaluate(ratings_pred)\n",
    "print(\"RMSE = \" + str(ratings_rmse))"
   ]
  },
  {
   "cell_type": "code",
   "execution_count": 20,
   "metadata": {
    "scrolled": false
   },
   "outputs": [
    {
     "name": "stdout",
     "output_type": "stream",
     "text": [
      "+------+--------+------+----+-----+----------+\n",
      "|userId|artistId|weight|play|count|prediction|\n",
      "+------+--------+------+----+-----+----------+\n",
      "|   126|    1580| 267.0|   1|   43|0.89959943|\n",
      "|   210|     463| 510.0|   1|   17| 0.8997955|\n",
      "|    27|     463| 159.0|   1|   17| 0.8997495|\n",
      "|   271|    1580| 900.0|   1|   43|0.89971703|\n",
      "|   333|    1580| 295.0|   1|   43| 0.8996826|\n",
      "|   319|    1645|2067.0|   1|   21| 0.8997618|\n",
      "|   479|     463|  23.0|   1|   17|0.89975446|\n",
      "|   432|    1645| 223.0|   1|   21|0.89979494|\n",
      "|   306|     463| 452.0|   1|   17|0.89963704|\n",
      "|   189|     496| 241.0|   1|   11| 0.8997361|\n",
      "|   129|    1580| 101.0|   1|   43| 0.8996829|\n",
      "|   256|    4818| 503.0|   1|   12|0.89978206|\n",
      "|    56|    1645|1491.0|   1|   21|0.89977145|\n",
      "|   487|     463| 170.0|   1|   17| 0.8997858|\n",
      "|   147|    1580|2294.0|   1|   43| 0.8996853|\n",
      "|   198|     496| 496.0|   1|   11|0.89972764|\n",
      "|    30|     471|  89.0|   1|   42|0.89980364|\n",
      "|   174|     463|  93.0|   1|   17|0.89975214|\n",
      "|   399|    1580| 195.0|   1|   43| 0.8996944|\n",
      "|   688|    4818| 215.0|   1|   12|0.89980507|\n",
      "+------+--------+------+----+-----+----------+\n",
      "only showing top 20 rows\n",
      "\n"
     ]
    }
   ],
   "source": [
    "ratings_pred.show()"
   ]
  },
  {
   "cell_type": "code",
   "execution_count": 21,
   "metadata": {
    "scrolled": true
   },
   "outputs": [
    {
     "name": "stdout",
     "output_type": "stream",
     "text": [
      "+------+--------------------------------------------------------------------------------------------------+\n",
      "|userId|recommendations                                                                                   |\n",
      "+------+--------------------------------------------------------------------------------------------------+\n",
      "|12    |[{835, 0.89990866}, {1253, 0.89989144}, {3053, 0.89988256}, {592, 0.89988226}, {1066, 0.899878}]  |\n",
      "|22    |[{835, 0.8998583}, {2746, 0.89985424}, {4156, 0.8998464}, {917, 0.8998402}, {1274, 0.8998393}]    |\n",
      "|26    |[{2746, 0.8998568}, {5844, 0.8998458}, {4271, 0.89984554}, {917, 0.89984393}, {1369, 0.89984286}] |\n",
      "|27    |[{1253, 0.8999237}, {835, 0.8999113}, {3053, 0.89990604}, {175, 0.8999033}, {592, 0.8999014}]     |\n",
      "|28    |[{592, 0.8998627}, {5416, 0.8998564}, {4069, 0.8998532}, {572, 0.89985126}, {5844, 0.8998509}]    |\n",
      "|31    |[{1253, 0.89992654}, {175, 0.8999092}, {3053, 0.89990216}, {592, 0.8998977}, {1066, 0.899896}]    |\n",
      "|34    |[{592, 0.89983886}, {5416, 0.8998304}, {4069, 0.8998293}, {1112, 0.8998277}, {1126, 0.89982504}]  |\n",
      "|44    |[{5844, 0.8998425}, {1112, 0.8998358}, {1426, 0.8998307}, {4156, 0.89982575}, {2834, 0.899825}]   |\n",
      "|47    |[{359, 0.89987564}, {5947, 0.89986324}, {1740, 0.8998619}, {1433, 0.8998619}, {5249, 0.8998504}]  |\n",
      "|52    |[{835, 0.89993405}, {1740, 0.89991874}, {1253, 0.89991677}, {1975, 0.8999072}, {1066, 0.8999059}] |\n",
      "|53    |[{359, 0.8998496}, {5947, 0.8998427}, {1433, 0.89984185}, {5249, 0.8998295}, {1740, 0.8998262}]   |\n",
      "|65    |[{835, 0.89990145}, {1253, 0.8998873}, {1740, 0.8998822}, {3053, 0.8998756}, {1066, 0.8998749}]   |\n",
      "|76    |[{359, 0.89987725}, {1740, 0.89986855}, {5947, 0.899862}, {1433, 0.8998602}, {5249, 0.8998491}]   |\n",
      "|78    |[{5844, 0.89986837}, {1112, 0.8998677}, {592, 0.8998609}, {1426, 0.8998573}, {6048, 0.89985675}]  |\n",
      "|81    |[{1740, 0.8999074}, {1253, 0.8998815}, {1975, 0.8998672}, {1481, 0.8998626}, {5150, 0.89986223}]  |\n",
      "|85    |[{1112, 0.8998548}, {835, 0.8998527}, {592, 0.89985096}, {5844, 0.89984876}, {4156, 0.8998475}]   |\n",
      "|91    |[{5844, 0.8998281}, {1901, 0.8998254}, {6048, 0.8998253}, {3364, 0.89982367}, {10969, 0.89982283}]|\n",
      "|101   |[{835, 0.89990306}, {1253, 0.8998977}, {1740, 0.8998942}, {1066, 0.8998831}, {3053, 0.89988303}]  |\n",
      "|103   |[{1253, 0.89988345}, {592, 0.8998747}, {175, 0.8998712}, {835, 0.8998675}, {3053, 0.8998671}]     |\n",
      "|108   |[{4271, 0.89985305}, {2746, 0.8998376}, {841, 0.89982986}, {1358, 0.8998295}, {1372, 0.89982754}] |\n",
      "+------+--------------------------------------------------------------------------------------------------+\n",
      "only showing top 20 rows\n",
      "\n"
     ]
    }
   ],
   "source": [
    "# rekomendacja \n",
    "user_recs=ratings_model.recommendForAllUsers(5).show(truncate=False)"
   ]
  },
  {
   "cell_type": "code",
   "execution_count": null,
   "metadata": {},
   "outputs": [],
   "source": []
  }
 ],
 "metadata": {
  "kernelspec": {
   "display_name": "Python 3",
   "language": "python",
   "name": "python3"
  },
  "language_info": {
   "codemirror_mode": {
    "name": "ipython",
    "version": 3
   },
   "file_extension": ".py",
   "mimetype": "text/x-python",
   "name": "python",
   "nbconvert_exporter": "python",
   "pygments_lexer": "ipython3",
   "version": "3.8.3"
  }
 },
 "nbformat": 4,
 "nbformat_minor": 4
}
