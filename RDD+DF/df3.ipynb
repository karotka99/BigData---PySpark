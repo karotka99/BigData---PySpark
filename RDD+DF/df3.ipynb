{
 "cells": [
  {
   "cell_type": "markdown",
   "metadata": {},
   "source": [
    "Zbior danych to oceny filmow. Dane pochodza z projektu https://movielens.org/\n",
    "Wiecej informacji o danych mozna znalezc pod adresem: http://files.grouplens.org/datasets/movielens/ml-latest-small-README.html"
   ]
  },
  {
   "cell_type": "code",
   "execution_count": 1,
   "metadata": {},
   "outputs": [],
   "source": [
    "import findspark\n",
    "findspark.init()\n",
    "\n",
    "from pyspark.sql import SparkSession\n",
    "spark = SparkSession.builder.appName('DataFrame_add').master('local[*]').getOrCreate()\n",
    "\n",
    "            "
   ]
  },
  {
   "cell_type": "code",
   "execution_count": 2,
   "metadata": {},
   "outputs": [],
   "source": [
    "data_path = 'ml-latest-small/'\n",
    "\n",
    "# Wczytanie DataFrame bezposrednio z JSON oraz CSV\n",
    "movies = spark.read.option(\"header\",\"true\").csv(data_path+'movies.csv')\n",
    "ratings = spark.read.option(\"header\",\"true\").csv(data_path+'ratings.csv')"
   ]
  },
  {
   "cell_type": "markdown",
   "metadata": {},
   "source": [
    "1. Z jakich kolumn skladaja sie wczytane powyzej zbiory?\n",
    "2. Informacje o ilu filmach znajduja sie w dostarczonym zbiorze?\n",
    "3. Oceny ilu uzytkownikow znajduja sie w zbiorze?\n",
    "4. Czy w zbiorze znajduja sie braki danych?\n",
    "5. Ile filmow nie ma ocen? Ktore filmy nie maja ocen?\n",
    "6. Ktory film ma najlepsza srednia ocen? Jesli jest takich wiele podaj ten z najwieksza liczba glosow.\n",
    "7. Jaki procent filmow ma tylko maksymalne oceny?\n",
    "8. Ktory film na najwyzsza minimalna ocene? Jesli jest takich wiele podaj ten z najwieksza liczba glosow.\n",
    "9. Jaki jest rozklad ocen?\n",
    "10. Ile jest filmow zaklasyfikowanych jako dokumentalne 'documentary'?\n",
    "11. Ktory z filmow dokumentalnych z conajmniej 10 glosami ma najwysza srednia ocene?\n",
    "12. Jakie sa roznice pomiedzy liczba filmow w zbiorze z roku na rok? Zaloz, ze timestamp reprezentuje liczbe sekund od roku 1960."
   ]
  },
  {
   "cell_type": "markdown",
   "metadata": {},
   "source": [
    "### 1. Z jakich kolumn skladaja sie wczytane powyzej zbiory?"
   ]
  },
  {
   "cell_type": "code",
   "execution_count": 3,
   "metadata": {},
   "outputs": [
    {
     "name": "stdout",
     "output_type": "stream",
     "text": [
      "root\n",
      " |-- movieId: string (nullable = true)\n",
      " |-- title: string (nullable = true)\n",
      " |-- genres: string (nullable = true)\n",
      "\n"
     ]
    }
   ],
   "source": [
    "movies.printSchema()"
   ]
  },
  {
   "cell_type": "code",
   "execution_count": 4,
   "metadata": {},
   "outputs": [
    {
     "name": "stdout",
     "output_type": "stream",
     "text": [
      "root\n",
      " |-- userId: string (nullable = true)\n",
      " |-- movieId: string (nullable = true)\n",
      " |-- rating: string (nullable = true)\n",
      " |-- timestamp: string (nullable = true)\n",
      "\n"
     ]
    }
   ],
   "source": [
    "ratings.printSchema()"
   ]
  },
  {
   "cell_type": "markdown",
   "metadata": {},
   "source": [
    "### 2. Informacje o ilu filmach znajduja sie w dostarczonym zbiorze?"
   ]
  },
  {
   "cell_type": "code",
   "execution_count": 5,
   "metadata": {},
   "outputs": [
    {
     "name": "stdout",
     "output_type": "stream",
     "text": [
      "+-------+------------------+--------------------+------------------+\n",
      "|summary|           movieId|               title|            genres|\n",
      "+-------+------------------+--------------------+------------------+\n",
      "|  count|              9742|                9742|              9742|\n",
      "|   mean|42200.353623485935|                null|              null|\n",
      "| stddev| 52160.49485443825|                null|              null|\n",
      "|    min|                 1|\"11'09\"\"01 - Sept...|(no genres listed)|\n",
      "|    max|             99992|À nous la liberté...|           Western|\n",
      "+-------+------------------+--------------------+------------------+\n",
      "\n"
     ]
    }
   ],
   "source": [
    "movies.describe().show()"
   ]
  },
  {
   "cell_type": "markdown",
   "metadata": {},
   "source": [
    "### 3. Oceny ilu uzytkownikow znajduja sie w zbiorze?"
   ]
  },
  {
   "cell_type": "code",
   "execution_count": 6,
   "metadata": {},
   "outputs": [],
   "source": [
    "ratings3=ratings.groupBy(\"userId\").count()"
   ]
  },
  {
   "cell_type": "code",
   "execution_count": 7,
   "metadata": {},
   "outputs": [
    {
     "data": {
      "text/plain": [
       "610"
      ]
     },
     "execution_count": 7,
     "metadata": {},
     "output_type": "execute_result"
    }
   ],
   "source": [
    "ratings3.count()"
   ]
  },
  {
   "cell_type": "markdown",
   "metadata": {},
   "source": [
    "### 4. Czy w zbiorze znajduja sie braki danych?"
   ]
  },
  {
   "cell_type": "code",
   "execution_count": 8,
   "metadata": {},
   "outputs": [
    {
     "data": {
      "text/plain": [
       "0"
      ]
     },
     "execution_count": 8,
     "metadata": {},
     "output_type": "execute_result"
    }
   ],
   "source": [
    "nulls= ratings.filter(ratings.userId.isNull() | ratings.movieId.isNull() | ratings.rating.isNull() | ratings.timestamp.isNull())\n",
    "nulls.count()"
   ]
  },
  {
   "cell_type": "code",
   "execution_count": 9,
   "metadata": {},
   "outputs": [
    {
     "data": {
      "text/plain": [
       "0"
      ]
     },
     "execution_count": 9,
     "metadata": {},
     "output_type": "execute_result"
    }
   ],
   "source": [
    "nulls= movies.filter(movies.movieId.isNull() | movies.title.isNull() | movies.genres.isNull())\n",
    "nulls.count()"
   ]
  },
  {
   "cell_type": "markdown",
   "metadata": {},
   "source": [
    "### 5. Ile filmow nie ma ocen? Ktore filmy nie maja ocen?"
   ]
  },
  {
   "cell_type": "code",
   "execution_count": 10,
   "metadata": {},
   "outputs": [
    {
     "name": "stdout",
     "output_type": "stream",
     "text": [
      "+-------+--------------------+--------------------+------+------+---------+\n",
      "|movieId|               title|              genres|userId|rating|timestamp|\n",
      "+-------+--------------------+--------------------+------+------+---------+\n",
      "|   1076|Innocents, The (1...|Drama|Horror|Thri...|  null|  null|     null|\n",
      "|   2939|      Niagara (1953)|      Drama|Thriller|  null|  null|     null|\n",
      "|   3338|For All Mankind (...|         Documentary|  null|  null|     null|\n",
      "|   3456|Color of Paradise...|               Drama|  null|  null|     null|\n",
      "|   4194|I Know Where I'm ...|   Drama|Romance|War|  null|  null|     null|\n",
      "|   5721|  Chosen, The (1981)|               Drama|  null|  null|     null|\n",
      "|   6668|Road Home, The (W...|       Drama|Romance|  null|  null|     null|\n",
      "|   6849|      Scrooge (1970)|Drama|Fantasy|Mus...|  null|  null|     null|\n",
      "|   7020|        Proof (1991)|Comedy|Drama|Romance|  null|  null|     null|\n",
      "|   7792|Parallax View, Th...|            Thriller|  null|  null|     null|\n",
      "|   8765|This Gun for Hire...|Crime|Film-Noir|T...|  null|  null|     null|\n",
      "|  25855|Roaring Twenties,...|Crime|Drama|Thriller|  null|  null|     null|\n",
      "|  26085|Mutiny on the Bou...|Adventure|Drama|R...|  null|  null|     null|\n",
      "|  30892|In the Realms of ...|Animation|Documen...|  null|  null|     null|\n",
      "|  32160|Twentieth Century...|              Comedy|  null|  null|     null|\n",
      "|  32371|Call Northside 77...|Crime|Drama|Film-...|  null|  null|     null|\n",
      "|  34482|Browning Version,...|               Drama|  null|  null|     null|\n",
      "|  85565|  Chalet Girl (2011)|      Comedy|Romance|  null|  null|     null|\n",
      "+-------+--------------------+--------------------+------+------+---------+\n",
      "\n"
     ]
    },
    {
     "data": {
      "text/plain": [
       "18"
      ]
     },
     "execution_count": 10,
     "metadata": {},
     "output_type": "execute_result"
    }
   ],
   "source": [
    "moviesWithRatings = movies.join(other=ratings, on='movieId', how='left')\n",
    "NoRatings=moviesWithRatings.filter(moviesWithRatings.rating.isNull())\n",
    "NoRatings.show()\n",
    "NoRatings.count()"
   ]
  },
  {
   "cell_type": "markdown",
   "metadata": {},
   "source": [
    "### 6. Ktory film ma najlepsza srednia ocen? Jesli jest takich wiele podaj ten z najwieksza liczba glosow."
   ]
  },
  {
   "cell_type": "code",
   "execution_count": 11,
   "metadata": {},
   "outputs": [],
   "source": [
    "import pyspark.sql.functions as f"
   ]
  },
  {
   "cell_type": "code",
   "execution_count": 12,
   "metadata": {
    "scrolled": true
   },
   "outputs": [
    {
     "name": "stdout",
     "output_type": "stream",
     "text": [
      "+--------------------+---------+-------------+\n",
      "|               title|AvgRating|NumberOfVotes|\n",
      "+--------------------+---------+-------------+\n",
      "|Enter the Void (2...|      5.0|            2|\n",
      "| Lesson Faust (1994)|      5.0|            2|\n",
      "|Jonah Who Will Be...|      5.0|            2|\n",
      "| Belle époque (1992)|      5.0|            2|\n",
      "|Heidi Fleiss: Hol...|      5.0|            2|\n",
      "|     Lamerica (1994)|      5.0|            2|\n",
      "|Come and See (Idi...|      5.0|            2|\n",
      "|George Carlin: Yo...|      5.0|            1|\n",
      "|Vacations in Pros...|      5.0|            1|\n",
      "|Tickling Giants (...|      5.0|            1|\n",
      "|English Vinglish ...|      5.0|            1|\n",
      "|      Villain (1971)|      5.0|            1|\n",
      "|Winnie the Pooh a...|      5.0|            1|\n",
      "|Paper Birds (Pája...|      5.0|            1|\n",
      "|Awfully Big Adven...|      5.0|            1|\n",
      "|         Rain (2001)|      5.0|            1|\n",
      "|    Radio Day (2008)|      5.0|            1|\n",
      "|National Lampoon'...|      5.0|            1|\n",
      "|Martin Lawrence L...|      5.0|            1|\n",
      "|Reform School Gir...|      5.0|            1|\n",
      "+--------------------+---------+-------------+\n",
      "only showing top 20 rows\n",
      "\n"
     ]
    }
   ],
   "source": [
    "moviesWithRatings.groupBy('title').agg(f.avg('rating').alias('AvgRating'),\n",
    "f.count('title').alias('NumberOfVotes')).orderBy(f.desc('AvgRating'),f.desc('NumberOfVotes')).show()"
   ]
  },
  {
   "cell_type": "markdown",
   "metadata": {},
   "source": [
    "### 7. Jaki procent filmow ma tylko maksymalne oceny?"
   ]
  },
  {
   "cell_type": "code",
   "execution_count": 13,
   "metadata": {},
   "outputs": [
    {
     "data": {
      "text/plain": [
       "3.03839047423527"
      ]
     },
     "execution_count": 13,
     "metadata": {},
     "output_type": "execute_result"
    }
   ],
   "source": [
    "bestRatings=moviesWithRatings.groupBy('title').agg(f.min('rating').alias('Min'))\n",
    "only5=bestRatings.where(bestRatings['Min']==5)\n",
    "only5.count()/movies.count()*100"
   ]
  },
  {
   "cell_type": "markdown",
   "metadata": {},
   "source": [
    "### 8. Ktory film na najwyzsza minimalna ocene? Jesli jest takich wiele podaj ten z najwieksza liczba glosow."
   ]
  },
  {
   "cell_type": "code",
   "execution_count": 14,
   "metadata": {},
   "outputs": [
    {
     "name": "stdout",
     "output_type": "stream",
     "text": [
      "+--------------------+---+-------------+\n",
      "|               title|Min|NumberOfVotes|\n",
      "+--------------------+---+-------------+\n",
      "|     Lamerica (1994)|5.0|            2|\n",
      "|Enter the Void (2...|5.0|            2|\n",
      "| Lesson Faust (1994)|5.0|            2|\n",
      "|Heidi Fleiss: Hol...|5.0|            2|\n",
      "| Belle époque (1992)|5.0|            2|\n",
      "|Come and See (Idi...|5.0|            2|\n",
      "|Jonah Who Will Be...|5.0|            2|\n",
      "|Adventures Of She...|5.0|            1|\n",
      "|Alien Contaminati...|5.0|            1|\n",
      "|7 Faces of Dr. La...|5.0|            1|\n",
      "| 'Salem's Lot (2004)|5.0|            1|\n",
      "|Battle Royale 2: ...|5.0|            1|\n",
      "|All the Vermeers ...|5.0|            1|\n",
      "|    12 Chairs (1976)|5.0|            1|\n",
      "|Animals are Beaut...|5.0|            1|\n",
      "|A Detective Story...|5.0|            1|\n",
      "|A Perfect Day (2015)|5.0|            1|\n",
      "|    All Yours (2016)|5.0|            1|\n",
      "|American Friend, ...|5.0|            1|\n",
      "|Assignment, The (...|5.0|            1|\n",
      "+--------------------+---+-------------+\n",
      "only showing top 20 rows\n",
      "\n"
     ]
    }
   ],
   "source": [
    "moviesWithRatings.groupBy('title').agg(f.min('rating').alias('Min'),\n",
    "f.count('title').alias('NumberOfVotes')).orderBy(f.desc('Min'),f.desc('NumberOfVotes')).show()"
   ]
  },
  {
   "cell_type": "markdown",
   "metadata": {},
   "source": [
    "### 9. Jaki jest rozklad ocen?"
   ]
  },
  {
   "cell_type": "code",
   "execution_count": 15,
   "metadata": {},
   "outputs": [
    {
     "name": "stdout",
     "output_type": "stream",
     "text": [
      "+------+-----+\n",
      "|rating|count|\n",
      "+------+-----+\n",
      "|   0.5| 1370|\n",
      "|   1.0| 2811|\n",
      "|   1.5| 1791|\n",
      "|   2.0| 7551|\n",
      "|   2.5| 5550|\n",
      "|   3.0|20047|\n",
      "|   3.5|13136|\n",
      "|   4.0|26818|\n",
      "|   4.5| 8551|\n",
      "|   5.0|13211|\n",
      "+------+-----+\n",
      "\n"
     ]
    }
   ],
   "source": [
    "ratings.groupBy('rating').count().orderBy(\"rating\").show()"
   ]
  },
  {
   "cell_type": "markdown",
   "metadata": {},
   "source": [
    "### 10. Ile jest filmow zaklasyfikowanych jako dokumentalne 'documentary'?"
   ]
  },
  {
   "cell_type": "code",
   "execution_count": 16,
   "metadata": {},
   "outputs": [
    {
     "name": "stdout",
     "output_type": "stream",
     "text": [
      "+-------+--------------------+-----------------+\n",
      "|movieId|               title|           genres|\n",
      "+-------+--------------------+-----------------+\n",
      "|     77|    Nico Icon (1995)|      Documentary|\n",
      "|     99|Heidi Fleiss: Hol...|      Documentary|\n",
      "|    108|      Catwalk (1996)|      Documentary|\n",
      "|    116|Anne Frank Rememb...|      Documentary|\n",
      "|    128|Jupiter's Wife (1...|      Documentary|\n",
      "|    137|Man of the Year (...|      Documentary|\n",
      "|    162|        Crumb (1994)|      Documentary|\n",
      "|    206|     Unzipped (1995)|      Documentary|\n",
      "|    246|  Hoop Dreams (1994)|      Documentary|\n",
      "|    363|Wonderful, Horrib...|      Documentary|\n",
      "|    556|War Room, The (1993)|      Documentary|\n",
      "|    581|Celluloid Closet,...|      Documentary|\n",
      "|    602|Great Day in Harl...|      Documentary|\n",
      "|    722|Haunted World of ...|      Documentary|\n",
      "|    759|Maya Lin: A Stron...|      Documentary|\n",
      "|    791|Last Klezmer: Leo...|      Documentary|\n",
      "|   1050|Looking for Richa...|Documentary|Drama|\n",
      "|   1111|Microcosmos (Micr...|      Documentary|\n",
      "|   1123|Perfect Candidate...|      Documentary|\n",
      "|   1144|Line King: The Al...|      Documentary|\n",
      "+-------+--------------------+-----------------+\n",
      "only showing top 20 rows\n",
      "\n"
     ]
    }
   ],
   "source": [
    "documentary=movies.where(movies.genres.like('%Documentary%'))\n",
    "documentary.show()"
   ]
  },
  {
   "cell_type": "code",
   "execution_count": 17,
   "metadata": {
    "scrolled": true
   },
   "outputs": [
    {
     "data": {
      "text/plain": [
       "440"
      ]
     },
     "execution_count": 17,
     "metadata": {},
     "output_type": "execute_result"
    }
   ],
   "source": [
    "documentary.count()"
   ]
  },
  {
   "cell_type": "markdown",
   "metadata": {},
   "source": [
    "### 11. Ktory z filmow dokumentalnych z conajmniej 10 glosami ma najwysza srednia ocene?"
   ]
  },
  {
   "cell_type": "code",
   "execution_count": 18,
   "metadata": {},
   "outputs": [
    {
     "name": "stdout",
     "output_type": "stream",
     "text": [
      "+--------------------+------------------+-------------+\n",
      "|               title|         AvgRating|NumberOfVotes|\n",
      "+--------------------+------------------+-------------+\n",
      "|Fog of War: Eleve...|4.3076923076923075|           13|\n",
      "+--------------------+------------------+-------------+\n",
      "only showing top 1 row\n",
      "\n"
     ]
    }
   ],
   "source": [
    "doc=moviesWithRatings.where(movies.genres.like('%Documentary%'))\n",
    "doc2=doc.groupBy('title').agg(f.avg('rating').alias('AvgRating'),\n",
    "f.count('title').alias('NumberOfVotes')).orderBy(f.desc('AvgRating'),f.desc('NumberOfVotes'))\n",
    "doc2.where(doc2['NumberOfVotes']>9).show(1)"
   ]
  },
  {
   "cell_type": "markdown",
   "metadata": {},
   "source": [
    "### 12. Jakie sa roznice pomiedzy liczba ocen w zbiorze z roku na rok? Zaloz, ze timestamp reprezentuje liczbe sekund od roku 1960."
   ]
  },
  {
   "cell_type": "code",
   "execution_count": 19,
   "metadata": {
    "scrolled": true
   },
   "outputs": [
    {
     "name": "stdout",
     "output_type": "stream",
     "text": [
      "+----+-----+\n",
      "|year|count|\n",
      "+----+-----+\n",
      "|1986| 6031|\n",
      "|1987| 1925|\n",
      "|1988|  507|\n",
      "|1989| 2439|\n",
      "|1990|10061|\n",
      "|1991| 3922|\n",
      "|1992| 3478|\n",
      "|1993| 4014|\n",
      "|1994| 3274|\n",
      "|1995| 5818|\n",
      "|1996| 4059|\n",
      "|1997| 7114|\n",
      "|1998| 4345|\n",
      "|1999| 4163|\n",
      "|2000| 2302|\n",
      "|2001| 1690|\n",
      "|2002| 4656|\n",
      "|2003| 1664|\n",
      "|2004| 1439|\n",
      "|2005| 6616|\n",
      "+----+-----+\n",
      "only showing top 20 rows\n",
      "\n"
     ]
    }
   ],
   "source": [
    "df12=ratings.withColumn(colName = 'year', col = 1960 + f.floor(ratings.timestamp/(60*60*24*365.2425)))\n",
    "df12a=df12.groupBy('year').count().orderBy('year')\n",
    "df12a.show()"
   ]
  }
 ],
 "metadata": {
  "kernelspec": {
   "display_name": "Python 3",
   "language": "python",
   "name": "python3"
  },
  "language_info": {
   "codemirror_mode": {
    "name": "ipython",
    "version": 3
   },
   "file_extension": ".py",
   "mimetype": "text/x-python",
   "name": "python",
   "nbconvert_exporter": "python",
   "pygments_lexer": "ipython3",
   "version": "3.8.3"
  }
 },
 "nbformat": 4,
 "nbformat_minor": 5
}
